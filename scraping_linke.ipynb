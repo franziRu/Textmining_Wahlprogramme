{
 "cells": [
  {
   "cell_type": "code",
   "execution_count": 15,
   "metadata": {},
   "outputs": [],
   "source": [
    "# pip install requests\n",
    "# pip install beautifulsoup4\n",
    "# pip install nltk \n",
    "# pip install spacy\n",
    "# pip install textblob\n",
    "# pip install wordcloud"
   ]
  },
  {
   "cell_type": "code",
   "execution_count": 16,
   "metadata": {},
   "outputs": [],
   "source": [
    "import requests \n",
    "from bs4 import BeautifulSoup\n",
    "import os"
   ]
  },
  {
   "cell_type": "code",
   "execution_count": 17,
   "metadata": {},
   "outputs": [],
   "source": [
    "# URL des Wahlprogramms abrufen\n",
    "\n",
    "url = 'https://www.die-linke.de/bundestagswahl-2025/wahlprogramm/'\n",
    "\n",
    "response  = requests.get(url)\n",
    "if response.status_code == 200:\n",
    "     page = response.text\n",
    "else:\n",
    "    print(f\"Seite konnte nicht abgerufen werden - Status Code {response.status_code}\")\n",
    "\n",
    "soup = BeautifulSoup(page, 'html.parser')\n",
    "\n",
    "del page, response"
   ]
  },
  {
   "cell_type": "code",
   "execution_count": 18,
   "metadata": {},
   "outputs": [
    {
     "name": "stdout",
     "output_type": "stream",
     "text": [
      "\n",
      "Gesamtanzahl der Wörter: 31851\n"
     ]
    }
   ],
   "source": [
    "# Liste zum Speichern der Inhalte in der richtigen Reihenfolge\n",
    "content_list = []\n",
    "\n",
    "# Alle <h4>-Elemente mit der Klasse \"panel-title\" finden\n",
    "h4_elements = soup.find_all(\"h4\", class_=\"panel-title\")\n",
    "last_element = h4_elements[-1]  # Letztes <h4> als Stopppunkt\n",
    "\n",
    "# Erstes <h4>-Element suchen, um den Startpunkt zu setzen\n",
    "start_element = soup.find(\"h4\", class_=\"panel-title\")\n",
    "\n",
    "# Falls ein <h4> gefunden wurde, ab diesem Element iterieren\n",
    "if start_element:\n",
    "    # Erstes h4-Element explizit hinzufügen, falls nicht leer\n",
    "    start_text = start_element.get_text(strip=True)\n",
    "    if start_text:\n",
    "        content_list.append(f\"### {start_text}\")\n",
    "\n",
    "    # Alle nachfolgenden relevanten Elemente sammeln\n",
    "    for element in start_element.find_all_next([\"h3\", \"h4\", \"p\", \"li\"]):\n",
    "         # Extraktion beenden, sobald das letzte h4-Element erreicht ist (da dieses nicht Teil des Wahlprogramms ist)\n",
    "        if element == last_element:\n",
    "            break\n",
    "\n",
    "        text = element.get_text(\" \", strip=True)  # Leerzeichen für bessere Lesbarkeit\n",
    "        \n",
    "        # Nur nicht-leere Inhalte weiterverarbeiten\n",
    "        if not text:\n",
    "            continue\n",
    "        \n",
    "        # Überschriften mit ### markieren\n",
    "        if element.name == \"h4\" and \"panel-title\" in element.get(\"class\", []):\n",
    "            content_list.append(f\"### {text}\")\n",
    "\n",
    "        # Thesen (h3) mit ## markieren\n",
    "        elif element.name == \"h3\":\n",
    "            content_list.append(f\"## {text}\")\n",
    "\n",
    "        # Alle Texte (Absätze und Listenpunkte) extrahieren\n",
    "        elif element.name in [\"p\", \"li\"]:\n",
    "            content_list.append(f\"# {text}\")\n",
    "\n",
    "# Entferne komplett leere Einträge oder Einträge mit nur Leerzeichen (zusätzliche Absicherung)\n",
    "content_list = [entry for entry in content_list if entry.strip()]\n",
    "\n",
    "# Die extrahierten Inhalte speichern\n",
    "linke_gesamt = \"\\n\".join(content_list)\n",
    "with open(\"linke.txt\", \"w\", encoding=\"utf-8\") as file:\n",
    "    file.write(linke_gesamt)\n",
    "\n",
    "# Gesamtwortanzahl berechnen\n",
    "word_count = len(linke_gesamt.split())\n",
    "print(f\"\\nGesamtanzahl der Wörter: {word_count}\")"
   ]
  }
 ],
 "metadata": {
  "kernelspec": {
   "display_name": "Python 3",
   "language": "python",
   "name": "python3"
  },
  "language_info": {
   "codemirror_mode": {
    "name": "ipython",
    "version": 3
   },
   "file_extension": ".py",
   "mimetype": "text/x-python",
   "name": "python",
   "nbconvert_exporter": "python",
   "pygments_lexer": "ipython3",
   "version": "3.11.4"
  }
 },
 "nbformat": 4,
 "nbformat_minor": 2
}
