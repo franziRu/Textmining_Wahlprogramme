{
 "cells": [
  {
   "cell_type": "code",
   "execution_count": null,
   "metadata": {},
   "outputs": [],
   "source": [
    "# pip install requests\n",
    "# pip install beautifulsoup4\n",
    "# pip install nltk \n",
    "# pip install spacy\n",
    "# pip install textblob\n",
    "# pip install wordcloud"
   ]
  },
  {
   "cell_type": "code",
   "execution_count": null,
   "metadata": {},
   "outputs": [],
   "source": [
    "import requests\n",
    "from bs4 import BeautifulSoup\n",
    "\n",
    "# URL des Wahlprogramms\n",
    "url = \"https://www.die-linke.de/bundestagswahl-2025/wahlprogramm/\"\n",
    "\n",
    "# HTTP-Request senden\n",
    "response = requests.get(url)\n",
    "\n",
    "# Überprüfen, ob der Request erfolgreich war\n",
    "if response.status_code == 200:\n",
    "    # HTML-Inhalt parsen\n",
    "    soup = BeautifulSoup(response.content, 'html.parser')\n",
    "\n",
    "    # Den Hauptinhalt der Seite extrahieren (je nach Struktur der Website anpassen)\n",
    "    main_content = soup.find('div', class_='ce-bodytext')  # Beispiel für typische Content-Div-Klasse\n",
    "\n",
    "    if main_content:\n",
    "        # Text bereinigen und ausgeben\n",
    "        text = main_content.get_text(separator='\\n', strip=True)\n",
    "        print(text)\n",
    "        \n",
    "        # Optional: in eine Textdatei speichern\n",
    "        with open('wahlprogramm_die_linke_2025.txt', 'w', encoding='utf-8') as f:\n",
    "            f.write(text)\n",
    "    else:\n",
    "        print(\"Hauptinhalt nicht gefunden. Bitte die Struktur der Website überprüfen.\")\n",
    "else:\n",
    "    print(f\"Fehler beim Abrufen der Seite: {response.status_code}\")\n"
   ]
  },
  {
   "cell_type": "code",
   "execution_count": null,
   "metadata": {},
   "outputs": [],
   "source": []
  }
 ],
 "metadata": {
  "language_info": {
   "name": "python"
  }
 },
 "nbformat": 4,
 "nbformat_minor": 2
}
