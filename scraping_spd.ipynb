{
 "cells": [
  {
   "cell_type": "code",
   "execution_count": 2,
   "metadata": {},
   "outputs": [],
   "source": [
    "# pip install requests\n",
    "# pip install beautifulsoup4\n",
    "import requests\n",
    "from bs4 import BeautifulSoup"
   ]
  },
  {
   "cell_type": "code",
   "execution_count": 27,
   "metadata": {},
   "outputs": [
    {
     "name": "stdout",
     "output_type": "stream",
     "text": [
      "Verarbeite: https://www.spd.de/bundestagswahl/programm/uebersicht/i-worauf-es-jetzt-ankommt\n",
      "Verarbeite: https://www.spd.de/bundestagswahl/programm/uebersicht/ii-ein-neuer-aufschwung-fuer-deutschland\n",
      "Verarbeite: https://www.spd.de/bundestagswahl/programm/uebersicht/iii-beschaeftigte-und-ihre-familien-entlasten\n",
      "Verarbeite: https://www.spd.de/bundestagswahl/programm/uebersicht/iv-sich-in-deutschland-sicher-und-zu-hause-fuehlen\n",
      "Verarbeite: https://www.spd.de/bundestagswahl/programm/uebersicht/v-unsere-internationale-verantwortung-in-der-zeitenwende\n",
      "\n",
      "Gesamtanzahl der Wörter: 27307\n"
     ]
    }
   ],
   "source": [
    "# URLs des Wahlprogramms der SPD (auf mehrere Seiten verteilt)\n",
    "urls = [\n",
    "    \"https://www.spd.de/bundestagswahl/programm/uebersicht/i-worauf-es-jetzt-ankommt\",\n",
    "    \"https://www.spd.de/bundestagswahl/programm/uebersicht/ii-ein-neuer-aufschwung-fuer-deutschland\",\n",
    "    \"https://www.spd.de/bundestagswahl/programm/uebersicht/iii-beschaeftigte-und-ihre-familien-entlasten\",\n",
    "    \"https://www.spd.de/bundestagswahl/programm/uebersicht/iv-sich-in-deutschland-sicher-und-zu-hause-fuehlen\",\n",
    "    \"https://www.spd.de/bundestagswahl/programm/uebersicht/v-unsere-internationale-verantwortung-in-der-zeitenwende\",\n",
    "\n",
    "]\n",
    "\n",
    "# Liste zum Speichern der Inhalte in der richtigen Reihenfolge\n",
    "content_list = []\n",
    "\n",
    "for url in urls:\n",
    "    print(f\"Verarbeite: {url}\")  # Fortschritt anzeigen\n",
    "    \n",
    "    # HTTP-Request an die Webseite senden\n",
    "    response = requests.get(url)\n",
    "    if response.status_code == 200:\n",
    "        soup = BeautifulSoup(response.content, \"html.parser\") \n",
    "\n",
    "    # Überprüfen, ob der Request erfolgreich war\n",
    "    if response.status_code != 200:\n",
    "        print(f\"Fehler beim Abrufen der Seite {url}: {response.status_code}\")\n",
    "        continue \n",
    "\n",
    "    # Alle relevanten Elemente (Überschriften, Thesen, Texte) in der richtigen Reihenfolge extrahieren\n",
    "    for element in soup.find_all([\"h2\", \"div\", \"p\"]):\n",
    "        # überschriften mit ### markieren\n",
    "        if element.name == \"h2\" and \"program-detail__chapter-headline\" in element.get(\"class\", []):\n",
    "            content_list.append(f\"### {element.get_text(strip=True)}\")\n",
    "\n",
    "        # Thesen mit ## markieren \n",
    "        elif element.name == \"div\" and \"program-detail__quote\" in element.get(\"class\", []):\n",
    "            content_list.append(f\"## {element.get_text(strip=True)}\")\n",
    "\n",
    "        # Alle Texte extrahieren \n",
    "        elif element.name == \"p\":\n",
    "            text = element.get_text(\" \", strip=True) # hier noch ein Leerzeichen eingebaut, da sonst z.B. Fett geruckte Wörter ohne Leerzeichen aneinander gereiht werden \n",
    "            # Wahlprogramm-Absätze filtern und Cookie-Absätze entfernen\n",
    "            cookie_phrases = [\"Cookies\", \"Datenschutz\", \"Reichweitenanalyse\", \"Matomo\", \"Hier siehst du\"]\n",
    "            # Die Relevanten Texte mit # versehen\n",
    "            if not any(cookie_phrase.lower() in text.lower() for cookie_phrase in cookie_phrases):\n",
    "                content_list.append(f\"# {text}\")\n",
    "\n",
    "# Entferne komplett leere Einträge oder Einträge mit nur Leerzeichen\n",
    "content_list = [entry.strip() for entry in content_list if entry.strip()]\n",
    "\n",
    "# Die extrahierten Inhalte speichern\n",
    "spd_gesamt = \"\\n\".join(content_list)\n",
    "with open(\"spd.txt\", \"w\", encoding=\"utf-8\") as file:\n",
    "    file.write(spd_gesamt)\n",
    "\n",
    "# Gesamtwortanzahl berechnen\n",
    "word_count = len(spd_gesamt.split())\n",
    "print(f\"\\nGesamtanzahl der Wörter: {word_count}\")\n"
   ]
  },
  {
   "cell_type": "code",
   "execution_count": null,
   "metadata": {},
   "outputs": [],
   "source": []
  }
 ],
 "metadata": {
  "kernelspec": {
   "display_name": "Python 3",
   "language": "python",
   "name": "python3"
  },
  "language_info": {
   "codemirror_mode": {
    "name": "ipython",
    "version": 3
   },
   "file_extension": ".py",
   "mimetype": "text/x-python",
   "name": "python",
   "nbconvert_exporter": "python",
   "pygments_lexer": "ipython3",
   "version": "3.12.9"
  }
 },
 "nbformat": 4,
 "nbformat_minor": 2
}
