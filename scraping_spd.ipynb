{
 "cells": [
  {
   "cell_type": "code",
   "execution_count": 1,
   "metadata": {},
   "outputs": [],
   "source": [
    "# pip install requests\n",
    "# pip install beautifulsoup4\n",
    "import requests\n",
    "from bs4 import BeautifulSoup"
   ]
  },
  {
   "cell_type": "code",
   "execution_count": 13,
   "metadata": {},
   "outputs": [
    {
     "name": "stdout",
     "output_type": "stream",
     "text": [
      "Erfolgreich verarbeitet: https://www.spd.de/bundestagswahl/programm/uebersicht/i-worauf-es-jetzt-ankommt\n",
      "Erfolgreich verarbeitet: https://www.spd.de/bundestagswahl/programm/uebersicht/ii-ein-neuer-aufschwung-fuer-deutschland\n",
      "Erfolgreich verarbeitet: https://www.spd.de/bundestagswahl/programm/uebersicht/iii-beschaeftigte-und-ihre-familien-entlasten\n",
      "Erfolgreich verarbeitet: https://www.spd.de/bundestagswahl/programm/uebersicht/iv-sich-in-deutschland-sicher-und-zu-hause-fuehlen\n",
      "Erfolgreich verarbeitet: https://www.spd.de/bundestagswahl/programm/uebersicht/v-unsere-internationale-verantwortung-in-der-zeitenwende\n",
      "Erfolgreich verarbeitet: https://www.spd.de/bundestagswahl/programm/uebersicht/vi-unser-versprechen\n",
      "\n",
      "Gesamtanzahl der Wörter: 25399\n"
     ]
    }
   ],
   "source": [
    "# URLs des Wahlprogramms der SPD (auf mehrere Seiten verteilt)\n",
    "urls = [\"https://www.spd.de/bundestagswahl/programm/uebersicht/i-worauf-es-jetzt-ankommt\",\n",
    "\"https://www.spd.de/bundestagswahl/programm/uebersicht/ii-ein-neuer-aufschwung-fuer-deutschland\",\n",
    "\"https://www.spd.de/bundestagswahl/programm/uebersicht/iii-beschaeftigte-und-ihre-familien-entlasten\",\n",
    "\"https://www.spd.de/bundestagswahl/programm/uebersicht/iv-sich-in-deutschland-sicher-und-zu-hause-fuehlen\",\n",
    "\"https://www.spd.de/bundestagswahl/programm/uebersicht/v-unsere-internationale-verantwortung-in-der-zeitenwende\",\n",
    "\"https://www.spd.de/bundestagswahl/programm/uebersicht/vi-unser-versprechen\"]\n",
    "\n",
    "# Variable zum Speichern des gesamten Textes \n",
    "spd_gesamt = \"\"\n",
    "\n",
    "# Durch die URLs iterieren und den Text extrahieren\n",
    "for url in urls:\n",
    "\n",
    "    # HTTP-Request an die Webseite senden\n",
    "    response = requests.get(url)\n",
    "\n",
    "    # Überprüfen, ob der Request erfolgreich war\n",
    "    if response.status_code == 200:\n",
    "        soup = BeautifulSoup(response.content, \"html.parser\")\n",
    "\n",
    "        #  Textabsätze extrahieren\n",
    "        paragraphs = soup.find_all(\"p\")\n",
    "\n",
    "        # Wahlprogramm extrahieren, erster und letzter Paragraph enthalten nur Cookie infos\n",
    "        wahlprogramm_text = \"\\n\".join([para.get_text(strip=True) for para in paragraphs[1:-1]])\n",
    "\n",
    "        # Den extrahierten Text zum Gesamttext hinzufügen\n",
    "        spd_gesamt += wahlprogramm_text + \"\\n\\n\"\n",
    "\n",
    "        print(f\"Erfolgreich verarbeitet: {url}\")\n",
    "    else:\n",
    "        print(f\"Fehler beim Abrufen der Seite {url}: {response.status_code}\")\n",
    "              \n",
    "# Gesamtwortanzahl berechnen\n",
    "word_count = len(spd_gesamt.split())\n",
    "print(f\"\\nGesamtanzahl der Wörter: {word_count}\")\n",
    "\n",
    "# Optional: Wahlprogramm-Text speichern\n",
    "with open(\"spd.txt\", \"w\", encoding=\"utf-8\") as file:\n",
    "    file.write(spd_gesamt)"
   ]
  }
 ],
 "metadata": {
  "kernelspec": {
   "display_name": "Python 3",
   "language": "python",
   "name": "python3"
  },
  "language_info": {
   "codemirror_mode": {
    "name": "ipython",
    "version": 3
   },
   "file_extension": ".py",
   "mimetype": "text/x-python",
   "name": "python",
   "nbconvert_exporter": "python",
   "pygments_lexer": "ipython3",
   "version": "3.12.8"
  }
 },
 "nbformat": 4,
 "nbformat_minor": 2
}
