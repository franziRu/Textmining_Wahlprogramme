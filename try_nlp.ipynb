{
 "cells": [
  {
   "cell_type": "code",
   "execution_count": 25,
   "metadata": {},
   "outputs": [],
   "source": [
    "import spacy\n",
    "nlp = spacy.load('de_core_news_md')"
   ]
  },
  {
   "cell_type": "code",
   "execution_count": 125,
   "metadata": {},
   "outputs": [],
   "source": [
    "with open ('kurzfassung_cdu.txt', 'r', encoding=\"utf-8\") as f:\n",
    "    text = f.read()\n"
   ]
  },
  {
   "cell_type": "code",
   "execution_count": null,
   "metadata": {},
   "outputs": [
    {
     "ename": "SyntaxError",
     "evalue": "invalid syntax (4282224311.py, line 2)",
     "output_type": "error",
     "traceback": [
      "\u001b[1;36m  Cell \u001b[1;32mIn[96], line 2\u001b[1;36m\u001b[0m\n\u001b[1;33m    'Chapter'       : 'Politikwechsel für Deutschland'{\u001b[0m\n\u001b[1;37m                                                      ^\u001b[0m\n\u001b[1;31mSyntaxError\u001b[0m\u001b[1;31m:\u001b[0m invalid syntax\n"
     ]
    }
   ],
   "source": [
    "dok_dict = {\n",
    "    'Chapter'       : 'Politikwechsel für Deutschland'{\n",
    "        'text'      : 'Wir alle wissen, wie es um unser...',\n",
    "        'theses'    : 'Für ein neues Wohlstandsversprechen'{\n",
    "            'text'  : 'Deutschland braucht wieder eine Politik für die... Wir entlasten vor allem Menschen mit n...',\n",
    "            'text'  : 'Deutschland braucht wieder eine Politik für die... Wir entlasten vor allem Menschen mit n...',\n",
    "        }\n",
    "    }\n",
    "}"
   ]
  },
  {
   "cell_type": "code",
   "execution_count": null,
   "metadata": {},
   "outputs": [],
   "source": [
    "def parse_document_simple(input_text):\n",
    "    lines = input_text.splitlines()\n",
    "    result = {}\n",
    "    chapter = None\n",
    "    subchapter = None  # Initialize subchapter here to avoid the UnboundLocalError\n",
    "\n",
    "    for line in lines:\n",
    "        if line.startswith(\"### \"):  # Kapitel\n",
    "            chapter = line[4:].strip()\n",
    "            subchapter = None  # Reset subchapter when a new chapter starts\n",
    "        elif line.startswith(\"## \") and chapter:  # Unterkapitel\n",
    "            subchapter = line[3:].strip()\n",
    "        else:  # Text im Unterkapitel\n",
    "            text = line.strip()\n",
    "            if subchapter is None:  # If no subchapter exists, add text at the chapter level\n",
    "                result[chapter] = []  \n",
    "                result[chapter].append(text)\n",
    "            else:\n",
    "                result[chapter][subchapter].append(text)\n",
    "\n",
    "    return result\n"
   ]
  },
  {
   "cell_type": "code",
   "execution_count": 127,
   "metadata": {},
   "outputs": [
    {
     "data": {
      "text/plain": [
       "{}"
      ]
     },
     "execution_count": 127,
     "metadata": {},
     "output_type": "execute_result"
    }
   ],
   "source": [
    "parse_document_simple(text)"
   ]
  },
  {
   "cell_type": "code",
   "execution_count": null,
   "metadata": {},
   "outputs": [],
   "source": []
  }
 ],
 "metadata": {
  "kernelspec": {
   "display_name": ".venv",
   "language": "python",
   "name": "python3"
  },
  "language_info": {
   "codemirror_mode": {
    "name": "ipython",
    "version": 3
   },
   "file_extension": ".py",
   "mimetype": "text/x-python",
   "name": "python",
   "nbconvert_exporter": "python",
   "pygments_lexer": "ipython3",
   "version": "3.12.2"
  }
 },
 "nbformat": 4,
 "nbformat_minor": 2
}
