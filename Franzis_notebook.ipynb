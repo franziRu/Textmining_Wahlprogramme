{
 "cells": [
  {
   "cell_type": "code",
   "execution_count": 7,
   "metadata": {},
   "outputs": [],
   "source": [
    "import requests \n",
    "from bs4 import BeautifulSoup\n",
    "import os\n"
   ]
  },
  {
   "cell_type": "code",
   "execution_count": 12,
   "metadata": {},
   "outputs": [
    {
     "name": "stdout",
     "output_type": "stream",
     "text": [
      "Daten erfolgreich in 'afd.txt' gespeichert.\n"
     ]
    }
   ],
   "source": [
    "import requests\n",
    "from bs4 import BeautifulSoup\n",
    "\n",
    "# URL der Zielseite\n",
    "url = 'https://www.afd.de/zeit-fuer-deutschland/'\n",
    "\n",
    "# HTTP-Request senden\n",
    "headers = {'User-Agent': 'Mozilla/5.0'}  # Um Blockierungen zu vermeiden\n",
    "response = requests.get(url, headers=headers)\n",
    "\n",
    "if response.status_code == 200:\n",
    "    # HTML-Inhalt parsen\n",
    "    soup = BeautifulSoup(response.text, 'html.parser')\n",
    "\n",
    "    # Liste zum Speichern des Fließtextes\n",
    "    text_data = []\n",
    "\n",
    "    # Alle Flip-Box-Elemente suchen\n",
    "    flip_boxes = soup.find_all(class_=\"flip-box-front-inner\")\n",
    "\n",
    "    for box in flip_boxes:\n",
    "        # H1-Text aus der Flip-Box-Vorderseite (unverändert)\n",
    "        h1_tag = box.find('h1')\n",
    "        h1_text = h1_tag.get_text(separator=\" \", strip=True) if h1_tag else \"Kein H1 gefunden\"\n",
    "\n",
    "        # Zugehörige Rückseite finden\n",
    "        back_box = box.find_next(class_=\"flip-box-back\")\n",
    "        p_tag = back_box.find('p') if back_box else None\n",
    "        p_text = p_tag.get_text(separator=\" \", strip=True) if p_tag else \"Kein P gefunden\"\n",
    "\n",
    "        # Fließtext hinzufügen\n",
    "        text_data.append(f\"{h1_text} {p_text}\")\n",
    "\n",
    "    # Als Fließtext speichern\n",
    "    final_text = \"\\n\\n\".join(text_data)  # Doppelte Leerzeile als Trennung\n",
    "\n",
    "    # Datei speichern\n",
    "    with open(\"afd.txt\", \"w\", encoding=\"utf-8\") as file:\n",
    "        file.write(final_text)\n",
    "\n",
    "    print(\"Daten erfolgreich in 'afd.txt' gespeichert.\")\n",
    "\n",
    "else:\n",
    "    print(f\"❌ Fehler beim Abrufen der Seite - Status Code: {response.status_code}\")\n"
   ]
  },
  {
   "cell_type": "code",
   "execution_count": 5,
   "metadata": {},
   "outputs": [
    {
     "name": "stdout",
     "output_type": "stream",
     "text": [
      "H1: DIE GRENZEN ENDLICH SCHÜTZEN.\n",
      "P: Die Grenzen sind lückenlos zu sichern. Jeder, der illegal oder ohne Papiere einzureisen versucht, ist zurückzuweisen. Unsere klare Ansage an die Welt: Ab jetzt bestimmen wieder wir, wer zu uns kommt und wer nicht.\n",
      "--------------------------------------------------\n",
      "H1: KEINERLEI GELDLEISTUNGEN FÜR ASYLBEWERBER MEHR.\n",
      "P: Die Versorgung von Asylbewerbern ist von Geld- auf Sachleistungen umzustellen. Sozialleistungen für Nicht-Aufenthaltsberechtigte sind zu streichen und Rückführungen im großen Stil zu organisieren.\n",
      "--------------------------------------------------\n",
      "H1: DAS ASLYRECHT VERSCHÄRFEN.\n",
      "P: Asyl ist Aufenthalt auf Zeit und endet, wenn der Fluchtgrund entfällt. Die Versorgung von Flüchtlingen in ihrer Heimatregion hat Vorrang. Viele sollten gar nicht erst nach Deutschland kommen.\n",
      "--------------------------------------------------\n",
      "H1: UNSERE STAATSBÜRGERSCHAFT NICHT LÄNGER VERSCHENKEN.\n",
      "P: Turbo-Einbürgerungen sind zu beenden. Es gibt keinen automatischen Anspruch auf den deutschen Pass. Nach dem Vorbild der Niederlande und Ungarns muss der Ausstieg aus dem EU-Asylsystem erklärt werden.\n",
      "--------------------------------------------------\n",
      "H1: ARBEIT MUSS SICH WIEDER LOHNEN. NICHT BÜRGERGELD.\n",
      "P: Das Bürgergeld ist zur aktivierenden Grundsicherung umzubauen und auf Staatsbürger und legal anwesende EU-Bürger zu beschränken. Wir werden dafür sorgen, dass Hunderttausende arbeitsfähige Empfänger in den Arbeitsmarkt zurückkehren.\n",
      "--------------------------------------------------\n",
      "H1: AUFSCHWUNG FÜR ALLE STATT GRÜNER VERBOTE.\n",
      "P: Wir wollen Technologieoffenheit: Verbote von Verbrennermotoren und von Öl- und Gasheizungen sind aufzuheben – die CDU ist dazu leider nicht in der Lage.\n",
      "--------------------------------------------------\n",
      "H1: DIE STEUERN FÜR BÜRGER & UNTERNEHMEN SENKEN.\n",
      "P: Wir wollen die Einkommensteuer, Konsum- und Unternehmenssteuern auf ein international konkurrenzfähiges Niveau senken. Den Steuerfreibetrag möchten wir auf 14.000 Euro erhöhen, die CO2-Abgabe streichen und Energiesteuern massiv reduzieren. Der „Solidaritätszuschlag“ ist vollständig abzuschaffen und eine grundlegende Steuerreform sowie -vereinfachungen sind auf den Weg zu bringen.\n",
      "--------------------------------------------------\n",
      "H1: SCHLUSS MIT UNSINNIGER BÜROKRATIE.\n",
      "P: Unsinnige EU-Regeln und Verbote müssen ein Ende haben. Das Bürokratiemonster „Lieferkettensorgfaltspflichtgesetz“ muss abgeschafft werden.\n",
      "--------------------------------------------------\n",
      "H1: ENERGIE MUSS WIEDER GÜNSTIG WERDEN.\n",
      "P: Subventionen und Förderprogramme für „Klimaschutz“ und die EEG-Umlage sind ersatzlos zu streichen. Wir werden das Ende der teuren „Energiewende“ und den Ausstieg aus der EU-„Klimapolitik“ einläuten. Für günstige und verlässliche Energie muss Deutschland wieder in die Kernkraft einsteigen und seineKohlekraftwerke erhalten\n",
      "--------------------------------------------------\n",
      "H1: DIE MEINUNGSFREIHEIT VERTEIDIGEN.\n",
      "P: Wir kämpfen gegen jegliche Versuche von Politikern und Behörden, die Meinungsfreiheit in Deutschland und der EU einzuschränken. Die GEZ-Gebühren gehören abgeschafft.\n",
      "--------------------------------------------------\n"
     ]
    }
   ],
   "source": [
    "import requests\n",
    "from bs4 import BeautifulSoup\n",
    "\n",
    "# URL der Zielseite\n",
    "url = 'https://www.afd.de/zeit-fuer-deutschland/'\n",
    "\n",
    "# HTTP-Request senden\n",
    "headers = {'User-Agent': 'Mozilla/5.0'}  # Einige Seiten blockieren Standard-Requests\n",
    "response = requests.get(url, headers=headers)\n",
    "\n",
    "if response.status_code == 200:\n",
    "    # HTML-Inhalt parsen\n",
    "    soup = BeautifulSoup(response.text, 'html.parser')\n",
    "\n",
    "    # Alle Flip-Box-Elemente suchen\n",
    "    flip_boxes = soup.find_all(class_=\"flip-box-front-inner\")\n",
    "\n",
    "    for box in flip_boxes:\n",
    "        # H1-Text aus der Flip-Box-Vorderseite\n",
    "        h1_text = box.find('h1').get_text(strip=True) if box.find('h1') else \"Kein H1 gefunden\"\n",
    "\n",
    "        # Zugehörige Rückseite finden\n",
    "        back_box = box.find_next(class_=\"flip-box-back\")\n",
    "        p_text = back_box.find('p').get_text(strip=True) if back_box and back_box.find('p') else \"Kein P gefunden\"\n",
    "\n",
    "        print(f\"H1: {h1_text}\")\n",
    "        print(f\"P: {p_text}\")\n",
    "        print(\"-\" * 50)\n",
    "\n",
    "else:\n",
    "    print(f\"Fehler beim Abrufen der Seite - Status Code: {response.status_code}\")\n"
   ]
  }
 ],
 "metadata": {
  "kernelspec": {
   "display_name": "newenv",
   "language": "python",
   "name": "python3"
  },
  "language_info": {
   "codemirror_mode": {
    "name": "ipython",
    "version": 3
   },
   "file_extension": ".py",
   "mimetype": "text/x-python",
   "name": "python",
   "nbconvert_exporter": "python",
   "pygments_lexer": "ipython3",
   "version": "3.13.0"
  }
 },
 "nbformat": 4,
 "nbformat_minor": 2
}
