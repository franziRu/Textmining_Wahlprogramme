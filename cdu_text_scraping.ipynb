{
 "cells": [
  {
   "cell_type": "code",
   "execution_count": 1,
   "metadata": {},
   "outputs": [],
   "source": [
    "import requests \n",
    "from bs4 import BeautifulSoup\n",
    "import os\n"
   ]
  },
  {
   "cell_type": "code",
   "execution_count": 2,
   "metadata": {},
   "outputs": [],
   "source": [
    "url = 'https://www.cdu.de/wahlprogramm-von-cdu-und-csu/'\n",
    "\n",
    "response  = requests.get(url)\n",
    "if response.status_code == 200:\n",
    "     page = response.text\n",
    "else:\n",
    "    print(f\"Seite konnte nicht abgerufen werden - Status Code {response.status_code}\")\n",
    "\n",
    "soup = BeautifulSoup(page, 'html.parser')\n",
    "\n",
    "del page, response"
   ]
  },
  {
   "cell_type": "code",
   "execution_count": 9,
   "metadata": {},
   "outputs": [],
   "source": [
    "\n",
    "headline_tag = soup.find('h3', string= 'Wahlprogramm Kurzfassung')\n",
    "text_tag = headline_tag.find_parent()\n",
    "text = text_tag.get_text(separator=' ', strip=True)\n",
    "\n",
    "file_name = 'kurzfassung_cdu.txt'\n",
    "\n",
    "if os.path.exists(file_name) == False:\n",
    "        with open(file_name, \"w\", encoding=\"utf-8\") as file:\n",
    "            file.write(text)"
   ]
  },
  {
   "cell_type": "code",
   "execution_count": 7,
   "metadata": {},
   "outputs": [],
   "source": [
    "\n",
    "headline_tag = soup.find('h3', string= 'Wahlprogramm Langfassung')\n",
    "text_tag = headline_tag.find_parent().find_parent()\n",
    "\n",
    "\n",
    "text = text_tag.get_text(separator=' ', strip=True)\n",
    "\n",
    "file_name = 'langfassung_cdu.txt'\n",
    "\n",
    "if os.path.exists(file_name) == False:\n",
    "        with open(file_name, \"w\", encoding=\"utf-8\") as file:\n",
    "            file.write(text)"
   ]
  },
  {
   "cell_type": "code",
   "execution_count": null,
   "metadata": {},
   "outputs": [],
   "source": []
  }
 ],
 "metadata": {
  "kernelspec": {
   "display_name": ".venv",
   "language": "python",
   "name": "python3"
  },
  "language_info": {
   "codemirror_mode": {
    "name": "ipython",
    "version": 3
   },
   "file_extension": ".py",
   "mimetype": "text/x-python",
   "name": "python",
   "nbconvert_exporter": "python",
   "pygments_lexer": "ipython3",
   "version": "3.12.2"
  }
 },
 "nbformat": 4,
 "nbformat_minor": 2
}
