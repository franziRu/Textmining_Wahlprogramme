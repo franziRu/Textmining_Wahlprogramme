{
 "cells": [
  {
   "cell_type": "code",
   "execution_count": 2,
   "metadata": {},
   "outputs": [],
   "source": [
    "import requests \n",
    "from bs4 import BeautifulSoup\n",
    "import os\n"
   ]
  },
  {
   "cell_type": "code",
   "execution_count": 57,
   "metadata": {},
   "outputs": [],
   "source": [
    "url = 'https://www.cdu.de/wahlprogramm-von-cdu-und-csu/'\n",
    "\n",
    "response  = requests.get(url)\n",
    "if response.status_code == 200:\n",
    "     page = response.text\n",
    "else:\n",
    "    print(f\"Seite konnte nicht abgerufen werden - Status Code {response.status_code}\")\n",
    "\n",
    "soup = BeautifulSoup(page, 'html.parser')\n",
    "\n",
    "del page, response"
   ]
  },
  {
   "cell_type": "code",
   "execution_count": 4,
   "metadata": {},
   "outputs": [],
   "source": [
    "\n",
    "headline_tag = soup.find('h3', string= 'Wahlprogramm Kurzfassung')\n",
    "text_tag = headline_tag.find_parent()\n",
    "text = text_tag.get_text(separator=' ', strip=True)\n",
    "\n",
    "file_name = 'kurzfassung_cdu.txt'\n",
    "\n",
    "if os.path.exists(file_name) == False:\n",
    "        with open(file_name, \"w\", encoding=\"utf-8\") as file:\n",
    "            file.write(text)"
   ]
  },
  {
   "cell_type": "code",
   "execution_count": 6,
   "metadata": {},
   "outputs": [
    {
     "name": "stdout",
     "output_type": "stream",
     "text": [
      "h3\n"
     ]
    }
   ],
   "source": [
    "\n",
    "headline_tag = soup.find('h3', string= 'Wahlprogramm Langfassung')\n",
    "text_tag = headline_tag.find_parent().find_parent()\n",
    "\n",
    "\n",
    "text = text_tag.get_text(separator=' ', strip=True)\n",
    "\n",
    "file_name = 'langfassung_cdu.txt'\n",
    "\n",
    "if os.path.exists(file_name) == False:\n",
    "        with open(file_name, \"w\", encoding=\"utf-8\") as file:\n",
    "            file.write(text)"
   ]
  },
  {
   "cell_type": "code",
   "execution_count": 39,
   "metadata": {},
   "outputs": [
    {
     "name": "stdout",
     "output_type": "stream",
     "text": [
      " Überschrift \n",
      "  Text und so \n",
      " ## These \n",
      " text text \n",
      " ## These2 \n",
      " \n"
     ]
    }
   ],
   "source": [
    "text = f'### Überschrift \\n  Text und so \\n ## These \\n text text \\n ## These2 \\n ### Überschrift2 \\n  Text und so \\n ## These \\n text text \\n ## These2 \\n'\n",
    "\n",
    "print(text.split('###'))"
   ]
  },
  {
   "cell_type": "code",
   "execution_count": null,
   "metadata": {},
   "outputs": [],
   "source": [
    "headline_tag = soup.find('h3', string= 'Wahlprogramm Kurzfassung')\n",
    "\n",
    "\n",
    "\n",
    "for sibling in headline_tag.find_next_siblings():\n",
    "    if sibling.name == 'h3':\n",
    "         text +='### ' + sibling.text + '\\n'\n",
    "    elif sibling.name == 'h4':\n",
    "         text += '## ' + sibling.text + '\\n'\n",
    "    else:\n",
    "         text += '# ' + sibling.text + '\\n'\n",
    "\n",
    "\n",
    "file_name = 'kurzfassung_cdu.txt'\n",
    "\n",
    "if os.path.exists(file_name) == False:\n",
    "        with open(file_name, \"w\", encoding=\"utf-8\") as file:\n",
    "            file.write(text)\n"
   ]
  },
  {
   "cell_type": "code",
   "execution_count": 95,
   "metadata": {},
   "outputs": [],
   "source": [
    "headline_tag = soup.find('h3', string='Wahlprogramm Langfassung')\n",
    "content_div = headline_tag.find_parent(\"div\").find_next_sibling(\"div\", class_=\"content\")\n",
    "\n",
    "text = ''\n",
    "\n",
    "if content_div:\n",
    "        content_divs = content_div.find_all('div', class_=\"panel\")\n",
    "\n",
    "        for panel in content_divs:\n",
    "            for child in panel.children:  \n",
    "                if child.name == 'button': \n",
    "                    text += '### ' + child.get_text(separator=\"\", strip=True) + '\\n'\n",
    "                    #print(f'### {child.get_text(separator=\"\", strip=True)}')\n",
    "\n",
    "                else:  # Sonstige Inhalte innerhalb des Panels\n",
    "                    for element in child.find_all(['p', 'h3', 'h4']):  # Alle inneren Elemente finden\n",
    "                        if element.name and element.name != 'div'and element.text != '':  # <div>-Tags ignorieren\n",
    "                            if element.name.startswith('h'):\n",
    "                                 text += '## ' + element.get_text(separator=\"\", strip=True) + '\\n'\n",
    "                                 #print(f'## {element.get_text(separator=\"\", strip=True)}')\n",
    "                            else:\n",
    "                                 text += '# ' +element.get_text(separator=\"\", strip=True) + '\\n'\n",
    "                                 #print(f'# {element.get_text(separator=\"\", strip=True)}')\n",
    "\n",
    "file_name = 'langfassung_cdu.txt'\n",
    "\n",
    "if os.path.exists(file_name) == False:\n",
    "        with open(file_name, \"w\", encoding=\"utf-8\") as file:\n",
    "            file.write(text)"
   ]
  },
  {
   "cell_type": "code",
   "execution_count": null,
   "metadata": {},
   "outputs": [],
   "source": []
  }
 ],
 "metadata": {
  "kernelspec": {
   "display_name": ".venv",
   "language": "python",
   "name": "python3"
  },
  "language_info": {
   "codemirror_mode": {
    "name": "ipython",
    "version": 3
   },
   "file_extension": ".py",
   "mimetype": "text/x-python",
   "name": "python",
   "nbconvert_exporter": "python",
   "pygments_lexer": "ipython3",
   "version": "3.12.2"
  }
 },
 "nbformat": 4,
 "nbformat_minor": 2
}
