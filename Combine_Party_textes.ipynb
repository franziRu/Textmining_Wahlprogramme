{
 "cells": [
  {
   "cell_type": "code",
   "execution_count": 4,
   "metadata": {},
   "outputs": [],
   "source": [
    "import spacy\n",
    "nlp = spacy.load('de_core_news_md')"
   ]
  },
  {
   "cell_type": "code",
   "execution_count": 39,
   "metadata": {},
   "outputs": [],
   "source": [
    "import pandas as pd\n",
    "import os\n"
   ]
  },
  {
   "cell_type": "code",
   "execution_count": null,
   "metadata": {},
   "outputs": [],
   "source": [
    "\n",
    "def parse_text_to_df(input_text):\n",
    "    lines = input_text.splitlines()\n",
    "    df = pd.DataFrame(columns=['Chapter', 'These', 'Text'])\n",
    "    chapter = None\n",
    "    these = ''\n",
    "    text = ''\n",
    "\n",
    "    for line in lines:\n",
    "        if line.startswith(\"### \"):  # Kapitel\n",
    "\n",
    "            if chapter != line[4:].strip() and chapter != None:\n",
    "                df.loc[len(df)] = [chapter, these, text.strip()]\n",
    "                text = ''\n",
    "\n",
    "            chapter = line[4:].strip()\n",
    "            these = None #Rücksetzten der These bei neuem Kapitel\n",
    "\n",
    "        elif line.startswith(\"## \"):  #These\n",
    "\n",
    "            if these != line[3:].strip():\n",
    "                df.loc[len(df)] = [chapter, these, text.strip()]\n",
    "                text = ''\n",
    "\n",
    "            these = line[3:].strip()\n",
    "        else:  # Kombinieren aufainanderfolgender Texte im Unterkapitel\n",
    "            text += line[1:].strip()\n",
    "\n",
    "\n",
    "    return df\n"
   ]
  },
  {
   "cell_type": "code",
   "execution_count": 61,
   "metadata": {},
   "outputs": [],
   "source": [
    "file_name = 'all_parties_text_combined.parquet' \n",
    "\n",
    "if os.path.exists(file_name) == False:\n",
    "    parties_file_list = ['spd.txt', 'cdu.txt', 'gruene.txt', 'afd.txt', 'fdp.txt', 'linke.txt']\n",
    "    all_textes_df = pd.DataFrame()\n",
    "    for party_file in parties_file_list:\n",
    "        with open (party_file, 'r', encoding=\"utf-8\") as f:\n",
    "            text = f.read()\n",
    "\n",
    "        df = parse_text_to_df(text)\n",
    "        df['Party'] = party_file[:-4]\n",
    "\n",
    "        all_textes_df = pd.concat([all_textes_df, df], ignore_index=True)\n",
    "\n",
    "    all_textes_df = all_textes_df[['Party', 'Chapter', 'These', 'Text']]\n",
    "\n",
    "    all_textes_df.to_parquet(file_name, index=False)"
   ]
  },
  {
   "cell_type": "code",
   "execution_count": 63,
   "metadata": {},
   "outputs": [
    {
     "data": {
      "text/plain": [
       "Party        6\n",
       "Chapter     58\n",
       "These      492\n",
       "Text       534\n",
       "dtype: int64"
      ]
     },
     "execution_count": 63,
     "metadata": {},
     "output_type": "execute_result"
    }
   ],
   "source": [
    "all_textes_df = df = pd.read_parquet(\"all_parties_text_combined.parquet\")\n",
    "all_textes_df.nunique()"
   ]
  },
  {
   "cell_type": "code",
   "execution_count": 64,
   "metadata": {},
   "outputs": [
    {
     "data": {
      "text/plain": [
       "Party\n",
       "gruene    145\n",
       "fdp       124\n",
       "spd        99\n",
       "linke      85\n",
       "afd        82\n",
       "cdu        17\n",
       "Name: count, dtype: int64"
      ]
     },
     "execution_count": 64,
     "metadata": {},
     "output_type": "execute_result"
    }
   ],
   "source": [
    "all_textes_df['Party'].value_counts()"
   ]
  },
  {
   "cell_type": "code",
   "execution_count": 65,
   "metadata": {},
   "outputs": [
    {
     "data": {
      "text/html": [
       "<div>\n",
       "<style scoped>\n",
       "    .dataframe tbody tr th:only-of-type {\n",
       "        vertical-align: middle;\n",
       "    }\n",
       "\n",
       "    .dataframe tbody tr th {\n",
       "        vertical-align: top;\n",
       "    }\n",
       "\n",
       "    .dataframe thead th {\n",
       "        text-align: right;\n",
       "    }\n",
       "</style>\n",
       "<table border=\"1\" class=\"dataframe\">\n",
       "  <thead>\n",
       "    <tr style=\"text-align: right;\">\n",
       "      <th></th>\n",
       "      <th>Party</th>\n",
       "      <th>Chapter</th>\n",
       "      <th>These</th>\n",
       "      <th>Text</th>\n",
       "    </tr>\n",
       "  </thead>\n",
       "  <tbody>\n",
       "    <tr>\n",
       "      <th>0</th>\n",
       "      <td>spd</td>\n",
       "      <td>Worauf es jetzt ankommt</td>\n",
       "      <td>None</td>\n",
       "      <td>Am 23. Februar findet die vorgezogene Bundesta...</td>\n",
       "    </tr>\n",
       "    <tr>\n",
       "      <th>1</th>\n",
       "      <td>spd</td>\n",
       "      <td>Ein neuer Aufschwung für Deutschland</td>\n",
       "      <td>None</td>\n",
       "      <td>Viele Menschen machen sich derzeit Sorgen um d...</td>\n",
       "    </tr>\n",
       "    <tr>\n",
       "      <th>2</th>\n",
       "      <td>spd</td>\n",
       "      <td>1. Wir kämpfen für neues Wachstum und sichere ...</td>\n",
       "      <td>None</td>\n",
       "      <td>Dies ist das erste, aber sicher nicht das letz...</td>\n",
       "    </tr>\n",
       "    <tr>\n",
       "      <th>3</th>\n",
       "      <td>spd</td>\n",
       "      <td>1. Wir kämpfen für neues Wachstum und sichere ...</td>\n",
       "      <td>Wir wollen Energiepreise senken und zentrale E...</td>\n",
       "      <td>Wir brauchen bezahlbare Energie, sonst geht un...</td>\n",
       "    </tr>\n",
       "    <tr>\n",
       "      <th>4</th>\n",
       "      <td>spd</td>\n",
       "      <td>1. Wir kämpfen für neues Wachstum und sichere ...</td>\n",
       "      <td>Wir wollen, dass Unternehmen die besten Rahmen...</td>\n",
       "      <td>Wir können etwas tun für unsere Unternehmen un...</td>\n",
       "    </tr>\n",
       "    <tr>\n",
       "      <th>...</th>\n",
       "      <td>...</td>\n",
       "      <td>...</td>\n",
       "      <td>...</td>\n",
       "      <td>...</td>\n",
       "    </tr>\n",
       "    <tr>\n",
       "      <th>547</th>\n",
       "      <td>linke</td>\n",
       "      <td>18. Inklusion und Teilhabe – selbstverständlich!</td>\n",
       "      <td>None</td>\n",
       "      <td>Nach unserem Verständnis ist Inklusion der Geg...</td>\n",
       "    </tr>\n",
       "    <tr>\n",
       "      <th>548</th>\n",
       "      <td>linke</td>\n",
       "      <td>19. Medien und Kultur für eine plurale Gesells...</td>\n",
       "      <td>None</td>\n",
       "      <td>Für demokratische Aushandlung und Meinungsbild...</td>\n",
       "    </tr>\n",
       "    <tr>\n",
       "      <th>549</th>\n",
       "      <td>linke</td>\n",
       "      <td>19. Medien und Kultur für eine plurale Gesells...</td>\n",
       "      <td>Kultur – vielfältig und für alle zugänglich</td>\n",
       "      <td>Der Zugang zu Kultur soll nicht vom Geldbeutel...</td>\n",
       "    </tr>\n",
       "    <tr>\n",
       "      <th>550</th>\n",
       "      <td>linke</td>\n",
       "      <td>19. Medien und Kultur für eine plurale Gesells...</td>\n",
       "      <td>Sport ist kein Luxus</td>\n",
       "      <td>Sport ist für alle da. Dafür müssen die Zugang...</td>\n",
       "    </tr>\n",
       "    <tr>\n",
       "      <th>551</th>\n",
       "      <td>linke</td>\n",
       "      <td>19. Medien und Kultur für eine plurale Gesells...</td>\n",
       "      <td>Verbraucher*innen stärken. Schluss mit den Sch...</td>\n",
       "      <td>Die Konzerne nutzen ihre Macht gegenüber Verbr...</td>\n",
       "    </tr>\n",
       "  </tbody>\n",
       "</table>\n",
       "<p>552 rows × 4 columns</p>\n",
       "</div>"
      ],
      "text/plain": [
       "     Party                                            Chapter  \\\n",
       "0      spd                            Worauf es jetzt ankommt   \n",
       "1      spd               Ein neuer Aufschwung für Deutschland   \n",
       "2      spd  1. Wir kämpfen für neues Wachstum und sichere ...   \n",
       "3      spd  1. Wir kämpfen für neues Wachstum und sichere ...   \n",
       "4      spd  1. Wir kämpfen für neues Wachstum und sichere ...   \n",
       "..     ...                                                ...   \n",
       "547  linke   18. Inklusion und Teilhabe – selbstverständlich!   \n",
       "548  linke  19. Medien und Kultur für eine plurale Gesells...   \n",
       "549  linke  19. Medien und Kultur für eine plurale Gesells...   \n",
       "550  linke  19. Medien und Kultur für eine plurale Gesells...   \n",
       "551  linke  19. Medien und Kultur für eine plurale Gesells...   \n",
       "\n",
       "                                                 These  \\\n",
       "0                                                 None   \n",
       "1                                                 None   \n",
       "2                                                 None   \n",
       "3    Wir wollen Energiepreise senken und zentrale E...   \n",
       "4    Wir wollen, dass Unternehmen die besten Rahmen...   \n",
       "..                                                 ...   \n",
       "547                                               None   \n",
       "548                                               None   \n",
       "549        Kultur – vielfältig und für alle zugänglich   \n",
       "550                               Sport ist kein Luxus   \n",
       "551  Verbraucher*innen stärken. Schluss mit den Sch...   \n",
       "\n",
       "                                                  Text  \n",
       "0    Am 23. Februar findet die vorgezogene Bundesta...  \n",
       "1    Viele Menschen machen sich derzeit Sorgen um d...  \n",
       "2    Dies ist das erste, aber sicher nicht das letz...  \n",
       "3    Wir brauchen bezahlbare Energie, sonst geht un...  \n",
       "4    Wir können etwas tun für unsere Unternehmen un...  \n",
       "..                                                 ...  \n",
       "547  Nach unserem Verständnis ist Inklusion der Geg...  \n",
       "548  Für demokratische Aushandlung und Meinungsbild...  \n",
       "549  Der Zugang zu Kultur soll nicht vom Geldbeutel...  \n",
       "550  Sport ist für alle da. Dafür müssen die Zugang...  \n",
       "551  Die Konzerne nutzen ihre Macht gegenüber Verbr...  \n",
       "\n",
       "[552 rows x 4 columns]"
      ]
     },
     "execution_count": 65,
     "metadata": {},
     "output_type": "execute_result"
    }
   ],
   "source": [
    "all_textes_df"
   ]
  },
  {
   "cell_type": "code",
   "execution_count": null,
   "metadata": {},
   "outputs": [],
   "source": []
  }
 ],
 "metadata": {
  "kernelspec": {
   "display_name": ".venv",
   "language": "python",
   "name": "python3"
  },
  "language_info": {
   "codemirror_mode": {
    "name": "ipython",
    "version": 3
   },
   "file_extension": ".py",
   "mimetype": "text/x-python",
   "name": "python",
   "nbconvert_exporter": "python",
   "pygments_lexer": "ipython3",
   "version": "3.12.2"
  }
 },
 "nbformat": 4,
 "nbformat_minor": 2
}
