{
 "cells": [
  {
   "cell_type": "code",
   "execution_count": null,
   "metadata": {},
   "outputs": [],
   "source": [
    "# pip install requests\n",
    "# pip install beautifulsoup4\n",
    "# pip install nltk \n",
    "# pip install spacy\n",
    "# pip install textblob\n",
    "# pip install wordcloud"
   ]
  },
  {
   "cell_type": "code",
   "execution_count": null,
   "metadata": {},
   "outputs": [
    {
     "name": "stdout",
     "output_type": "stream",
     "text": [
      "Der Text wurde in 'fdp.txt' gespeichert.\n",
      "Anzahl der Wörter: 18811\n"
     ]
    }
   ],
   "source": [
    "import requests\n",
    "from bs4 import BeautifulSoup\n",
    "\n",
    "# URL des Wahlprogramms\n",
    "url = \"https://www.fdp.de/das-wahlprogramm-der-freien-demokraten-zur-bundestagswahl-2025\"\n",
    "\n",
    "# HTTP-Request an die Webseite senden\n",
    "response = requests.get(url)\n",
    "\n",
    "# Überprüfen, ob der Request erfolgreich war\n",
    "if response.status_code == 200:\n",
    "    soup = BeautifulSoup(response.content, \"html.parser\")\n",
    "\n",
    "    # Beispiel: Alle Textabsätze (p-Tags) extrahieren\n",
    "    paragraphs = soup.find_all(\"p\")\n",
    "\n",
    "    # Wahlprogramm-Text extrahieren, ohne die letzten drei p-Tags (nicht Teil des Wahlprogramms)\n",
    "    wahlprogramm_text = \"\\n\".join([para.get_text(strip=True) for para in paragraphs[:-3]])\n",
    "\n",
    "    # Wahlprogramm-Text in eine Datei speichern\n",
    "    with open(\"fdp.txt\", \"w\", encoding=\"utf-8\") as file:\n",
    "        file.write(wahlprogramm_text)\n",
    "\n",
    "    # Wörter zählen\n",
    "    word_count = len(wahlprogramm_text.split())\n",
    "\n",
    "    # Ausgabe der Wortanzahl\n",
    "    print(f\"Der Text wurde in 'fdp.txt' gespeichert.\")\n",
    "    print(f\"Anzahl der Wörter: {word_count}\")\n",
    "else:\n",
    "    print(f\"Fehler beim Abrufen der Seite: {response.status_code}\")\n"
   ]
  }
 ],
 "metadata": {
  "kernelspec": {
   "display_name": "Python 3",
   "language": "python",
   "name": "python3"
  },
  "language_info": {
   "codemirror_mode": {
    "name": "ipython",
    "version": 3
   },
   "file_extension": ".py",
   "mimetype": "text/x-python",
   "name": "python",
   "nbconvert_exporter": "python",
   "pygments_lexer": "ipython3",
   "version": "3.11.4"
  }
 },
 "nbformat": 4,
 "nbformat_minor": 2
}
